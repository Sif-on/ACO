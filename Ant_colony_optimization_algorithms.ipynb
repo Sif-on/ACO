{
 "cells": [
  {
   "cell_type": "code",
   "execution_count": 1,
   "metadata": {},
   "outputs": [],
   "source": [
    "import pandas as pd\n",
    "from math import radians, cos, sin, asin, sqrt"
   ]
  },
  {
   "cell_type": "code",
   "execution_count": 2,
   "metadata": {},
   "outputs": [],
   "source": [
    "# Connect the file with the data.\n",
    "df = pd.read_excel('City_Map.xlsx', sheet_name='Областные центры')"
   ]
  },
  {
   "cell_type": "code",
   "execution_count": 3,
   "metadata": {},
   "outputs": [],
   "source": [
    "# Checking a validity file.\n",
    "\n",
    "# Check the number of columns.\n",
    "if df.shape[1] != 3:\n",
    "    print(f\"Included incorrect amount of data.\\n\"\n",
    "          f\"Check the downloadable XLSX file.\\n\"\n",
    "          f\"There must be only 3 columns.\")\n",
    "    df = None\n",
    "\n",
    "# Check on empty cells.\n",
    "if df.isnull().sum().sum() != 0:\n",
    "    print(f\"Included incorrect amount of data.\\n\"\n",
    "          f\"Check the downloadable xlsx file.\\n\"\n",
    "          f\"Should not be empty cells.\")\n",
    "    df = None"
   ]
  },
  {
   "cell_type": "code",
   "execution_count": 4,
   "metadata": {},
   "outputs": [],
   "source": [
    "# Calculation of distances between cities in kilometers.\n",
    "def haversine(lat1, lon1, lat2, lon2):\n",
    "    \"\"\"\n",
    "    Calculate the distance between the two coordinates\n",
    "    (indicated in decimal degrees).\n",
    "    \"\"\"\n",
    "    # We convert decimal degrees into radians.\n",
    "    # Latitude (lat).\n",
    "    # Longitude (lon).\n",
    "    lon1, lat1, lon2, lat2 = map(radians, [lon1, lat1, lon2, lat2])\n",
    "\n",
    "    # Formula Gaversinus.\n",
    "    dlon = lon2 - lon1\n",
    "    dlat = lat2 - lat1\n",
    "    a = sin(dlat/2)**2 + cos(lat1) * cos(lat2) * sin(dlon/2)**2\n",
    "    c = 2 * asin(sqrt(a))\n",
    "    km = 6371 * c  # Earth radius 6371 kilometers.\n",
    "\n",
    "    return km\n"
   ]
  },
  {
   "cell_type": "code",
   "execution_count": 5,
   "metadata": {},
   "outputs": [],
   "source": [
    "# We prepare for the creation of a distances table between cities.\n",
    "df_distance = {}\n",
    "\n",
    "# We consider the number of cities.\n",
    "number_of_cities = range(len(df))\n",
    "\n",
    "# We generate the first string with the names of the goths.\n",
    "for num_city in number_of_cities:\n",
    "    df_distance[df.iloc[num_city][0]] = {}\n",
    "\n",
    "# Fill the table by tramings between all cities.\n",
    "for num_city_x in number_of_cities:\n",
    "    for num_city_y in number_of_cities:\n",
    "        df_distance[df.iloc[num_city_y][0]][df.iloc[num_city_x][0]] = haversine(\n",
    "            df.iloc[num_city_x, 1], df.iloc[num_city_x, 2], df.iloc[num_city_y, 1], df.iloc[num_city_y, 2])\n",
    "\n",
    "# Convert data to DataFrame.\n",
    "df_distance = pd.DataFrame(df_distance)"
   ]
  }
 ],
 "metadata": {
  "interpreter": {
   "hash": "ee5cc6fef2d70a7e71ee3826687cbd150f18158e0b1eef11d4f4f92bb920e304"
  },
  "kernelspec": {
   "display_name": "Python 3.9.7 64-bit",
   "name": "python3"
  },
  "language_info": {
   "codemirror_mode": {
    "name": "ipython",
    "version": 3
   },
   "file_extension": ".py",
   "mimetype": "text/x-python",
   "name": "python",
   "nbconvert_exporter": "python",
   "pygments_lexer": "ipython3",
   "version": "3.9.7"
  },
  "orig_nbformat": 4
 },
 "nbformat": 4,
 "nbformat_minor": 2
}
